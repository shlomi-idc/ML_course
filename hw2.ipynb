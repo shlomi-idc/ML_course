{
 "cells": [
  {
   "cell_type": "markdown",
   "metadata": {
    "nbgrader": {
     "grade": false,
     "grade_id": "cell-6bd0516e7cb654f5",
     "locked": true,
     "schema_version": 1,
     "solution": false
    }
   },
   "source": [
    "# Exercise 2: Decision Trees\n",
    "\n",
    "In this assignment you will implement a Decision Tree algorithm as learned in class.\n",
    "\n",
    "## Read the following instructions carefully:\n",
    "\n",
    "1. This jupyter notebook contains all the step by step instructions needed for this exercise.\n",
    "1. Submission includes this notebook only with the exercise number and your ID as the filename. For example: `hw2_123456789_987654321.ipynb` if you submitted in pairs and `hw2_123456789.ipynb` if you submitted the exercise alone.\n",
    "1. Write **efficient vectorized** code whenever possible. Some calculations in this exercise take several minutes when implemented efficiently, and might take much longer otherwise. Unnecessary loops will result in point deduction.\n",
    "1. You are responsible for the correctness of your code and should add as many tests as you see fit. Tests will not be graded nor checked.\n",
    "1. Write your functions in this notebook only. **Do not create Python modules and import them**.\n",
    "1. You are allowed to use functions and methods from the [Python Standard Library](https://docs.python.org/3/library/) and [numpy](https://www.numpy.org/devdocs/reference/) only. **Do not import anything else.**\n",
    "1. Your code must run without errors. Make sure your `numpy` version is at least 1.15.4 and that you are using at least python 3.6. Changes of the configuration we provided are at your own risk. Any code that cannot run will not be graded.\n",
    "1. Write your own code. Cheating will not be tolerated.\n",
    "1. Answers to qualitative questions should be written in **markdown** cells (with $\\LaTeX$ support). Answers that will be written in commented code blocks will not be checked.\n",
    "\n",
    "## In this exercise you will perform the following:\n",
    "1. Practice OOP in python.\n",
    "2. Implement two impurity measures: Gini and Entropy.\n",
    "3. Construct a decision tree algorithm.\n",
    "4. Prune the tree to achieve better results.\n",
    "5. Visualize your results."
   ]
  },
  {
   "cell_type": "markdown",
   "metadata": {},
   "source": [
    "# I have read and understood the instructions: *** 200705754 *** ***032547275***"
   ]
  },
  {
   "cell_type": "code",
   "execution_count": 1,
   "metadata": {
    "nbgrader": {
     "grade": false,
     "grade_id": "cell-ed9fe7b1026e33cb",
     "locked": true,
     "schema_version": 1,
     "solution": false
    }
   },
   "outputs": [],
   "source": [
    "import numpy as np\n",
    "import pandas as pd\n",
    "import matplotlib.pyplot as plt\n",
    "\n",
    "# make matplotlib figures appear inline in the notebook\n",
    "%matplotlib inline\n",
    "plt.rcParams['figure.figsize'] = (10.0, 8.0) # set default size of plots\n",
    "plt.rcParams['image.interpolation'] = 'nearest'\n",
    "plt.rcParams['image.cmap'] = 'gray'\n",
    "\n",
    "# Ignore warnings\n",
    "import warnings\n",
    "warnings.filterwarnings('ignore')"
   ]
  },
  {
   "cell_type": "markdown",
   "metadata": {
    "nbgrader": {
     "grade": false,
     "grade_id": "cell-c6ac605270c2b091",
     "locked": true,
     "schema_version": 1,
     "solution": false
    }
   },
   "source": [
    "## Warmup - OOP in python\n",
    "\n",
    "Our desicion tree will be implemented using a dedicated python class. Python classes are very similar to classes in Java.\n",
    "\n",
    "\n",
    "You can use the following [site](https://jeffknupp.com/blog/2014/06/18/improve-your-python-python-classes-and-object-oriented-programming/) to learn about classes in python."
   ]
  },
  {
   "cell_type": "code",
   "execution_count": 2,
   "metadata": {},
   "outputs": [],
   "source": [
    "class Node(object):\n",
    "    def __init__(self, data):\n",
    "        self.data = data\n",
    "        self.children = []\n",
    "\n",
    "    def add_child(self, node):\n",
    "        self.children.append(node)"
   ]
  },
  {
   "cell_type": "code",
   "execution_count": 3,
   "metadata": {},
   "outputs": [
    {
     "data": {
      "text/plain": [
       "[<__main__.Node at 0x7f202cbc2668>, <__main__.Node at 0x7f202cbc22e8>]"
      ]
     },
     "execution_count": 3,
     "metadata": {},
     "output_type": "execute_result"
    }
   ],
   "source": [
    "n = Node(5)\n",
    "p = Node(6)\n",
    "q = Node(7)\n",
    "n.add_child(p)\n",
    "n.add_child(q)\n",
    "n.children"
   ]
  },
  {
   "cell_type": "markdown",
   "metadata": {
    "nbgrader": {
     "grade": false,
     "grade_id": "cell-2f1ceb251c649b62",
     "locked": true,
     "schema_version": 1,
     "solution": false
    }
   },
   "source": [
    "## Data preprocessing\n",
    "\n",
    "For the following exercise, we will use a dataset containing mushroom data `agaricus-lepiota.csv`. \n",
    "\n",
    "This data set includes descriptions of hypothetical samples corresponding to 23 species of gilled mushrooms in the Agaricus and Lepiota Family. Each species is identified as definitely edible, definitely poisonous, or of unknown edibility and not recommended. This latter class was combined with the poisonous\n",
    "one (=there are only two classes **edible** and **poisonous**). \n",
    "    \n",
    "The dataset contains 8124 observations with 22 features:\n",
    "1. cap-shape: bell=b,conical=c,convex=x,flat=f,knobbed=k,sunken=s\n",
    "2. cap-surface: fibrous=f,grooves=g,scaly=y,smooth=s\n",
    "3. cap-color: brown=n,buff=b,cinnamon=c,gray=g,green=r,pink=p,purple=u,red=e,white=w,yellow=y\n",
    "4. bruises: bruises=t,no=f\n",
    "5. odor: almond=a,anise=l,creosote=c,fishy=y,foul=f, musty=m,none=n,pungent=p,spicy=s\n",
    "6. gill-attachment: attached=a,descending=d,free=f,notched=n\n",
    "7. gill-spacing: close=c,crowded=w,distant=d\n",
    "8. gill-size: broad=b,narrow=n\n",
    "9. gill-color: black=k,brown=n,buff=b,chocolate=h,gray=g,green=r,orange=o,pink=p,purple=u,red=e,white=w,yellow=y\n",
    "10. stalk-shape: enlarging=e,tapering=t\n",
    "11. stalk-root: bulbous=b,club=c,cup=u,equal=e,rhizomorphs=z,rooted=r\n",
    "12. stalk-surface-above-ring: fibrous=f,scaly=y,silky=k,smooth=s\n",
    "13. stalk-surface-below-ring: fibrous=f,scaly=y,silky=k,smooth=s\n",
    "14. stalk-color-above-ring: brown=n,buff=b,cinnamon=c,gray=g,orange=o,pink=p,red=e,white=w,yellow=y\n",
    "15. stalk-color-below-ring: brown=n,buff=b,cinnamon=c,gray=g,orange=o,pink=p,red=e,white=w,yellow=y\n",
    "16. veil-type: partial=p,universal=u\n",
    "17. veil-color: brown=n,orange=o,white=w,yellow=y\n",
    "18. ring-number: none=n,one=o,two=t\n",
    "19. ring-type: cobwebby=c,evanescent=e,flaring=f,large=l,none=n,pendant=p,sheathing=s,zone=z\n",
    "20. spore-print-color: black=k,brown=n,buff=b,chocolate=h,green=r,orange=o,purple=u,white=w,yellow=y\n",
    "21. population: abundant=a,clustered=c,numerous=n,scattered=s,several=v,solitary=y\n",
    "22. habitat: grasses=g,leaves=l,meadows=m,paths=p,urban=u,waste=w,woods=d\n",
    "\n",
    "First, we will read and explore the data using pandas and the `.read_csv` method. Pandas is an open source library providing high-performance, easy-to-use data structures and data analysis tools for the Python programming language."
   ]
  },
  {
   "cell_type": "code",
   "execution_count": 4,
   "metadata": {
    "nbgrader": {
     "grade": false,
     "grade_id": "cell-d79cb4542926ad3f",
     "locked": true,
     "schema_version": 1,
     "solution": false
    }
   },
   "outputs": [
    {
     "data": {
      "text/plain": [
       "8124"
      ]
     },
     "execution_count": 4,
     "metadata": {},
     "output_type": "execute_result"
    }
   ],
   "source": [
    "# load dataset\n",
    "data = pd.read_csv('agaricus-lepiota.csv')\n",
    "len(data)"
   ]
  },
  {
   "cell_type": "markdown",
   "metadata": {},
   "source": [
    "One of the advantages of the Decision Tree algorithm is that almost no preprocessing is required. However, finding missing values is always required."
   ]
  },
  {
   "cell_type": "code",
   "execution_count": 5,
   "metadata": {},
   "outputs": [],
   "source": [
    "def remove_missing_values(data : pd.DataFrame): \n",
    "    '''find columns with missing values and remove them from the data'''\n",
    "    data = data.dropna(axis='rows')\n",
    "    return data"
   ]
  },
  {
   "cell_type": "code",
   "execution_count": 6,
   "metadata": {},
   "outputs": [],
   "source": [
    "data = remove_missing_values(data)"
   ]
  },
  {
   "cell_type": "markdown",
   "metadata": {},
   "source": [
    "We will split the dataset to `Training` and `Testing` datasets."
   ]
  },
  {
   "cell_type": "code",
   "execution_count": 7,
   "metadata": {},
   "outputs": [
    {
     "name": "stdout",
     "output_type": "stream",
     "text": [
      "Training dataset shape:  (6093, 22)\n",
      "Testing dataset shape:  (2031, 22)\n"
     ]
    }
   ],
   "source": [
    "from sklearn.model_selection import train_test_split\n",
    "# Making sure the last column will hold the labels\n",
    "X, y = data.drop('class', axis=1), data['class']\n",
    "X = np.column_stack([X,y])\n",
    "# split dataset using random_state to get the same split each time\n",
    "X_train, X_test = train_test_split(X, random_state=99)\n",
    "\n",
    "print(\"Training dataset shape: \", X_train.shape)\n",
    "print(\"Testing dataset shape: \", X_test.shape)"
   ]
  },
  {
   "cell_type": "code",
   "execution_count": 8,
   "metadata": {},
   "outputs": [
    {
     "data": {
      "text/plain": [
       "(8124,)"
      ]
     },
     "execution_count": 8,
     "metadata": {},
     "output_type": "execute_result"
    }
   ],
   "source": [
    "y.shape #number of samples"
   ]
  },
  {
   "cell_type": "markdown",
   "metadata": {
    "nbgrader": {
     "grade": false,
     "grade_id": "cell-fd7b0191f3f1e897",
     "locked": true,
     "schema_version": 1,
     "solution": false
    }
   },
   "source": [
    "## Impurity Measures\n",
    "\n",
    "Impurity is a measure of how often a randomly chosen element from the set would be incorrectly labeled if it was randomly labeled according to the distribution of labels in the subset. Implement the functions `calc_gini` and `calc_entropy`. You are encouraged to test your implementation (10 points)."
   ]
  },
  {
   "cell_type": "code",
   "execution_count": 9,
   "metadata": {},
   "outputs": [],
   "source": [
    "def calc_gini(data):\n",
    "    \"\"\"\n",
    "    Calculate gini impurity measure of a dataset.\n",
    " \n",
    "    Input:\n",
    "    - data: any dataset where the last column holds the labels.\n",
    " \n",
    "    Returns the gini impurity.    \n",
    "    \"\"\"\n",
    "    _ , counts = np.unique(data[:,-1], return_counts = True)\n",
    "    n = len(data) # number of samples \n",
    "    probs = counts/n    \n",
    "    gini = 1- np.sum(probs**2)\n",
    "    return gini"
   ]
  },
  {
   "cell_type": "code",
   "execution_count": 10,
   "metadata": {},
   "outputs": [],
   "source": [
    "def calc_entropy(data):\n",
    "    \"\"\"\n",
    "    Calculate the entropy of a dataset.\n",
    "\n",
    "    Input:\n",
    "    - data: any dataset where the last column holds the labels.\n",
    "\n",
    "    Returns the entropy of the dataset.    \n",
    "    \"\"\"\n",
    "    _ , counts = np.unique(data[:,-1], return_counts = True)\n",
    "    n = len(data) # number of samples \n",
    "    probs = counts/ n    \n",
    "    entropy = -np.sum(probs*np.log2(probs))\n",
    "    return entropy"
   ]
  },
  {
   "cell_type": "code",
   "execution_count": 11,
   "metadata": {
    "scrolled": true
   },
   "outputs": [
    {
     "data": {
      "text/plain": [
       "(0.4995636322379775, 0.9993703627906085)"
      ]
     },
     "execution_count": 11,
     "metadata": {},
     "output_type": "execute_result"
    }
   ],
   "source": [
    "##### Your Tests Here #####\n",
    "calc_gini(X), calc_entropy(X)"
   ]
  },
  {
   "cell_type": "markdown",
   "metadata": {},
   "source": [
    "## Goodness of Split\n",
    "\n",
    "Given a feature the Goodnees of Split measures the reduction in the impurity if we split the data according to the feature.\n",
    "$$\n",
    "\\Delta\\varphi(S, A) = \\varphi(S) - \\sum_{v\\in Values(A)} \\frac{|S_v|}{|S|}\\varphi(S_v)\n",
    "$$\n",
    "\n",
    "In our implementation the goodness_of_split function will return either the Goodness of Split or the Gain Ratio as learned in class. You'll control the return value with the `gain_ratio` parameter. If this parameter will set to False (the default value) it will return the regular Goodness of Split. If it will set to True it will return the Gain Ratio.\n",
    "$$\n",
    "GainRatio(S,A)=\\frac{InformationGain(S,A)}{SplitInformation(S,A)}\n",
    "$$\n",
    "Where:\n",
    "$$\n",
    "InformationGain(S,A)=Goodness\\ of\\ Split\\ calculated\\ with\\ Entropy\\ as\\ the\\ Impurity\\ function \\\\\n",
    "SplitInformation(S,A)=- \\sum_{a\\in A} \\frac{|S_a|}{|S|}\\log\\frac{|S_a|}{|S|}\n",
    "$$\n",
    "NOTE: you can add more parameters to the function and you can also add more returning variables (The given parameters and the given returning variable should not be touch). (10 Points)"
   ]
  },
  {
   "cell_type": "code",
   "execution_count": 12,
   "metadata": {},
   "outputs": [],
   "source": [
    "def goodness_of_split(data, feature, impurity_func, gain_ratio=False):\n",
    "    \"\"\"\n",
    "    Calculate the goodness of split of a dataset given a feature and impurity function.\n",
    "\n",
    "    Input:\n",
    "    - data: any dataset where the last column holds the labels.\n",
    "    - feature: the feature index.\n",
    "    - impurity func: a function that calculates the impurity.\n",
    "    - gain_ratio: goodness of split or gain ratio flag.\n",
    "\n",
    "    Returns the goodness of split (or the Gain Ration).  \n",
    "    \"\"\"\n",
    "    \n",
    "    # goodness of split\n",
    "    impurity_data = impurity_func(data) # calculated impurity of the data\n",
    "    unique_values = np.unique(data[:,feature]) # list of all unique values in feature\n",
    "    impurities_sum = 0\n",
    "    num_of_samples = len(data)\n",
    "    for value in unique_values: # for every uniquie value we calculate impurity and compue weighted average\n",
    "        n = len(data[data[:,feature]==value])\n",
    "        weight =  n/num_of_samples\n",
    "        impurities_sum += weight * impurity_func(data[data[:,feature] == value])\n",
    "\n",
    "    goodness = impurity_data - impurities_sum # impurity gain\n",
    "    information_gain = goodness\n",
    "    \n",
    "    #gain ratio\n",
    "    if gain_ratio: #if True we normalize by split information\n",
    "        values, counts = np.unique(data[:, feature], return_counts = True)\n",
    "        probs = counts/num_of_samples\n",
    "        split_information = -np.sum(probs*np.log2(probs))\n",
    "        goodness = information_gain / split_information\n",
    "\n",
    "    return goodness    "
   ]
  },
  {
   "cell_type": "markdown",
   "metadata": {},
   "source": [
    "## Building a Decision Tree\n",
    "\n",
    "Use a Python class to construct the decision tree. Your class should support the following functionality:\n",
    "\n",
    "1. Initiating a node for a decision tree. You will need to use several class methods and class attributes and you are free to use them as you see fit. We recommend that every node will hold the feature and value used for the split and its children.\n",
    "2. Your code should support both Gini and Entropy as impurity measures. \n",
    "3. The provided data includes categorical data. In this exercise, when splitting a node create the number of children needed according to the attribute unique values.\n",
    "\n",
    "Complete the class `DecisionNode`. The structure of this class is entirely up to you. \n",
    "\n",
    "Complete the function `build_tree`. This function should get the training dataset and the impurity as inputs, initiate a root for the decision tree and construct the tree according to the procedure you learned in class. (30 points)"
   ]
  },
  {
   "cell_type": "markdown",
   "metadata": {},
   "source": [
    "We construct the tree starting from the root by recursion: \n",
    "<br>for each node we call the function buid_subtree that calculates imputirty for every feature and chooses the best one in terms of impurity gain. Then we call build subtree agin for each one of the child nodes and continue building the tree according to the impurity criterion. \n",
    "<br>We stop in one of the following conditions: \n",
    "1. Pure node (only one class) \n",
    "2. max depth reached. \n",
    "3. node contains min_samples or less samples.   "
   ]
  },
  {
   "cell_type": "code",
   "execution_count": 13,
   "metadata": {},
   "outputs": [],
   "source": [
    "\n",
    "class DecisionNode:\n",
    "    \"\"\"\n",
    "    This class will hold everything you require to construct a decision tree.\n",
    "    The structure of this class is up to you. However, you need to support basic \n",
    "    functionality as described above. It is highly recommended that you \n",
    "    first read and understand the entire exercise before diving into this class.\n",
    "    \"\"\"\n",
    "    def __init__(self, feature_value, feature, parent_feature, pred=None):\n",
    "        self.feature = feature # column index of criteria being tested\n",
    "        self.feature_value = feature_value #indicates the feature value according to which samples were splitted from the parent node\n",
    "        self.parent_feature = parent_feature #the feature index that was used for splitting from the parent node(level above).\n",
    "        self.children = []\n",
    "        self.is_leaf = False #we want to know if the node is a leaf (reached the end of the tree)\n",
    "        self.pred = pred\n",
    "        self.class_counts=None\n",
    "\n",
    "    def add_child(self, node):\n",
    "        self.children.append(node)\n",
    "\n",
    "    def get_is_leaf(self):\n",
    "        return self.is_leaf\n",
    "    \n",
    "    def set_is_leaf(self, value):\n",
    "        self.is_leaf = value"
   ]
  },
  {
   "cell_type": "code",
   "execution_count": 14,
   "metadata": {},
   "outputs": [],
   "source": [
    "def build_subtree(data, impurity=calc_entropy, gain_ratio=False, max_depth=1000, parent_feature=None, feature_value=None, min_samples_split=1):\n",
    "    \n",
    "    # find best feature according to goodness of split criterion\n",
    "    best_feature = -1\n",
    "    goodness_value = -1\n",
    "    for feature_index, feature_column in enumerate(data[:,:-1].T):\n",
    "        gain = goodness_of_split(data, feature_index, impurity, gain_ratio)\n",
    "        if gain > goodness_value:\n",
    "            goodness_value = gain\n",
    "            best_feature = feature_index\n",
    "\n",
    "    #check if we have reached one of the stop conditions\n",
    "    if goodness_value == 0 or not max_depth or len(data)<=min_samples_split:\n",
    "        # no gain by splitting anymore or too deep in recursion\n",
    "        node = DecisionNode(feature_value, None, parent_feature)\n",
    "        node.set_is_leaf(True)\n",
    "        labels, counts = np.unique(data[:, -1], return_counts=True)\n",
    "        node.class_counts = dict(zip(labels, counts))\n",
    "        if len(counts)==1:\n",
    "            #only one clss\n",
    "            node.pred=labels[0]\n",
    "        else:\n",
    "            #majority vote\n",
    "            node.pred = labels[np.argmax(counts)]\n",
    "    else:\n",
    "        node = DecisionNode(feature_value, best_feature, parent_feature)\n",
    "        feature_values = np.unique(data[:, best_feature])\n",
    "        for feature_value in feature_values:\n",
    "            data_per_feature_val = data[data[:,best_feature] == feature_value]\n",
    "            labels, counts = np.unique(data_per_feature_val[:, -1], return_counts=True)\n",
    "            if len(counts) == 1:\n",
    "                # stop if the subset is pure\n",
    "                child_node = DecisionNode(feature_value, None, parent_feature)\n",
    "                child_node.set_is_leaf(True)\n",
    "                #return the class\n",
    "                child_node.pred = labels[0]\n",
    "                child_node.class_counts = dict(zip(labels, counts))\n",
    "            else:\n",
    "                #if not pure continue building the tree. Reduced max_depth for the subtree (because we added one leve)\n",
    "                child_node = build_subtree(data=data_per_feature_val, impurity=impurity, gain_ratio=gain_ratio, \n",
    "                                           max_depth=max_depth-1, \n",
    "                                           feature_value=feature_value, parent_feature=best_feature, min_samples_split=min_samples_split)\n",
    "            node.add_child(child_node)\n",
    "\n",
    "    return node"
   ]
  },
  {
   "cell_type": "code",
   "execution_count": 15,
   "metadata": {},
   "outputs": [],
   "source": [
    "def build_tree(data, impurity, gain_ratio=False, min_samples_split=1, max_depth=1000):\n",
    "    \"\"\"\n",
    "    Build a tree using the given impurity measure and training dataset. \n",
    "    You are required to fully grow the tree until all leaves are pure. \n",
    "\n",
    "    Input:\n",
    "    - data: the training dataset.\n",
    "    - impurity: the chosen impurity measure. Notice that you can send a function\n",
    "                as an argument in python.\n",
    "    - gain_ratio: goodness of split or gain ratio flag\n",
    "    - min_samples_split: the minimum number of samples required to split an internal node\n",
    "    - max_depth: the allowable depth of the tree\n",
    "\n",
    "    Output: the root node of the tree.\n",
    "    \"\"\"\n",
    "\n",
    "    root = None\n",
    "\n",
    "    ###########################################################################\n",
    "    # TODO: Implement the function.                                           #\n",
    "    ###########################################################################\n",
    "\n",
    "    parent_feature = None\n",
    "    feature_value = None\n",
    "    root = build_subtree(data=data, impurity=impurity, max_depth=max_depth, gain_ratio=gain_ratio, parent_feature=parent_feature,\n",
    "                         feature_value=feature_value, min_samples_split=min_samples_split)\n",
    "    ###########################################################################\n",
    "    #                             END OF YOUR CODE                            #\n",
    "    ###########################################################################\n",
    "    return root"
   ]
  },
  {
   "cell_type": "code",
   "execution_count": 16,
   "metadata": {},
   "outputs": [],
   "source": [
    "# python supports passing a function as an argument to another function.\n",
    "tree_gini = build_tree(data=X_train, impurity=calc_gini) # gini and goodness of split\n",
    "tree_entropy = build_tree(data=X_train, impurity=calc_entropy) # entropy and goodness of split\n",
    "tree_entropy_gain_ratio = build_tree(data=X_train, impurity=calc_entropy, gain_ratio=True) # entropy and gain ratio"
   ]
  },
  {
   "cell_type": "markdown",
   "metadata": {},
   "source": [
    "## Tree evaluation\n",
    "\n",
    "Complete the functions `predict` and `calc_accuracy`. (10 points)"
   ]
  },
  {
   "cell_type": "markdown",
   "metadata": {},
   "source": [
    "We traverse the tree recursively from the root and in each level we choose the child with the same feature value as the instance till we get to the leaf. Then we reurn the value (determined by majority vote if not pure). "
   ]
  },
  {
   "cell_type": "code",
   "execution_count": 17,
   "metadata": {},
   "outputs": [],
   "source": [
    "def predict(node, instance):\n",
    "    \"\"\"\n",
    "    Predict a given instance using the decision tree\n",
    " \n",
    "    Input:\n",
    "    - root: the root of the decision tree.\n",
    "    - instance: an row vector from the dataset. Note that the last element \n",
    "                of this vector is the label of the instance.\n",
    " \n",
    "    Output: the prediction of the instance.\n",
    "    \"\"\"\n",
    "    pred = None\n",
    "    \n",
    "    if node.get_is_leaf():\n",
    "        return node.pred\n",
    "    else:\n",
    "        for child in node.children:\n",
    "            if instance[node.feature] == child.feature_value:\n",
    "                node.pred = predict(child, instance)\n",
    "                break\n",
    "                \n",
    "    return node.pred"
   ]
  },
  {
   "cell_type": "code",
   "execution_count": 18,
   "metadata": {},
   "outputs": [],
   "source": [
    "def calc_accuracy(node, dataset):\n",
    "    \"\"\"\n",
    "    Predict a given dataset using the decision tree\n",
    " \n",
    "    Input:\n",
    "    - node: a node in the decision tree.\n",
    "    - dataset: the dataset on which the accuracy is evaluated\n",
    " \n",
    "    Output: the accuracy of the decision tree on the given dataset (%).\n",
    "    \"\"\"\n",
    "    accuracy = 0\n",
    "    TP_counter = 0\n",
    "    \n",
    "    for i in range(dataset.shape[0]):\n",
    "        if predict(node, dataset[i,:]) == dataset[i,-1]:\n",
    "            TP_counter +=1\n",
    "    \n",
    "    accuracy = TP_counter / dataset.shape[0]\n",
    "    \n",
    "    return accuracy "
   ]
  },
  {
   "cell_type": "markdown",
   "metadata": {},
   "source": [
    "After building the three trees using the training set, you should calculate the accuracy on the test set. For each tree print the training and test accuracy. Select the tree that gave you the best test accuracy. For the rest of the exercise, use that tree (when you asked to build another tree use the same impurity function and same gain_ratio flag). "
   ]
  },
  {
   "cell_type": "code",
   "execution_count": 19,
   "metadata": {},
   "outputs": [
    {
     "name": "stdout",
     "output_type": "stream",
     "text": [
      "################# tree_gini model evaluation ###################\n",
      "training accuracy: 99.25%\n",
      "test accuracy: 77.60%\n",
      "################# tree_entropy model evaluation ###################\n",
      "training accuracy: 99.41%\n",
      "test accuracy: 77.79%\n",
      "################# tree_entropy_gain_ratio model evaluation ###################\n",
      "training accuracy: 99.64%\n",
      "test accuracy: 78.43%\n"
     ]
    }
   ],
   "source": [
    "trees_results={}\n",
    "trees_results[\"tree_gini\"] = {\"training\": calc_accuracy(tree_gini, X_train), \"test\": calc_accuracy(tree_gini, X_test)}\n",
    "trees_results[\"tree_entropy\"] = {\"training\": calc_accuracy(tree_entropy, X_train), \"test\": calc_accuracy(tree_entropy, X_test)} \n",
    "trees_results[\"tree_entropy_gain_ratio\"] = {\"training\": calc_accuracy(tree_entropy_gain_ratio, X_train), \"test\": calc_accuracy(tree_entropy_gain_ratio, X_test)} \n",
    "\n",
    "best_tree_name=None\n",
    "best_test_accuracy=0\n",
    "\n",
    "for tree_name, tree_results in trees_results.items():\n",
    "    print(f\"################# {tree_name} model evaluation ###################\")\n",
    "    for set_name, set_accuracy in tree_results.items():\n",
    "        print(f\"{set_name} accuracy: {set_accuracy*100:.2f}%\")\n",
    "        if set_name==\"test\" and set_accuracy>best_test_accuracy:\n",
    "            best_tree_name=tree_name\n",
    "            best_test_accuracy=set_accuracy"
   ]
  },
  {
   "cell_type": "code",
   "execution_count": 20,
   "metadata": {},
   "outputs": [
    {
     "name": "stdout",
     "output_type": "stream",
     "text": [
      "tree with best test accuracy is tree_entropy_gain_ratio\n"
     ]
    }
   ],
   "source": [
    "print(f\"tree with best test accuracy is {best_tree_name}\")"
   ]
  },
  {
   "cell_type": "code",
   "execution_count": 21,
   "metadata": {},
   "outputs": [],
   "source": [
    "best_tree=tree_entropy_gain_ratio #We will use this tree for further calculations in next sections"
   ]
  },
  {
   "cell_type": "markdown",
   "metadata": {},
   "source": [
    "## Depth pruning\n",
    "\n",
    "(15 points)\n",
    "\n",
    "Consider the following max_depth values: [1, 2, 3, 4, 5, 6, 7, 8]. For each value, construct a tree and prune it according to the max_depth value = don't let the tree to grow beyond this depth. Next, calculate the training and testing accuracy.<br>\n",
    "On a single plot, draw the training and testing accuracy as a function of the max_depth. Mark the best result on the graph with red circle."
   ]
  },
  {
   "cell_type": "code",
   "execution_count": 22,
   "metadata": {},
   "outputs": [],
   "source": [
    "def prune_trees_depth(max_depths, train_data, test_data, impurity=calc_entropy, gain_ratio=True):\n",
    "    '''generate pruned trees according to max_depths vals and return their accuracies'''\n",
    "    trees_training_accuracies = []\n",
    "    trees_testing_accuracies = []\n",
    "    pruned_trees = []\n",
    "    for depth in max_depths:\n",
    "        #we use the tree with best entroy from previous section\n",
    "        pruned_trees.append(build_tree(data=train_data, impurity=calc_entropy, gain_ratio=True, max_depth=depth))\n",
    "    for tree in pruned_trees:\n",
    "        trees_training_accuracies.append(calc_accuracy(tree, train_data))\n",
    "        trees_testing_accuracies.append(calc_accuracy(tree, test_data))\n",
    "    return trees_training_accuracies, trees_testing_accuracies\n",
    "\n",
    "def plot_pruned_trees_accuracies(hyper_parameter_name, hyper_parameter_vals, trees_training_accuracies, trees_testing_accuracies):\n",
    "    best_index = trees_testing_accuracies.index(max(trees_testing_accuracies))\n",
    "    plt.scatter(hyper_parameter_vals,trees_training_accuracies, label='Training')\n",
    "    plt.scatter(hyper_parameter_vals,trees_testing_accuracies,  label='Testing')\n",
    "    plt.plot(hyper_parameter_vals,trees_training_accuracies)\n",
    "    plt.plot(hyper_parameter_vals,trees_testing_accuracies)\n",
    "    plt.plot(hyper_parameter_vals[best_index], trees_testing_accuracies[best_index], color='red', marker = 'o', ms = 10, label='best result')\n",
    "    plt.title(f'Training and testing accuracy as a function of the {hyper_parameter_name}', fontsize=14)\n",
    "    plt.ylabel('Accuracy', fontsize=14)\n",
    "    plt.xlabel(f'{hyper_parameter_name}', fontsize=14)\n",
    "    plt.legend(loc=\"upper center\", fontsize=14)\n",
    "    plt.show()\n"
   ]
  },
  {
   "cell_type": "code",
   "execution_count": 23,
   "metadata": {},
   "outputs": [
    {
     "data": {
      "image/png": "[encoded data removed]",
      "text/plain": [
       "<Figure size 720x576 with 1 Axes>"
      ]
     },
     "metadata": {
      "needs_background": "light"
     },
     "output_type": "display_data"
    }
   ],
   "source": [
    "max_depths = [1, 2, 3, 4, 5, 6, 7, 8]\n",
    "\n",
    "trees_training_accuracies, trees_testing_accuracies = prune_trees_depth(max_depths, X_train, X_test,)\n",
    "plot_pruned_trees_accuracies('max_depth', max_depths, trees_training_accuracies, trees_testing_accuracies)"
   ]
  },
  {
   "cell_type": "code",
   "execution_count": 24,
   "metadata": {},
   "outputs": [
    {
     "name": "stdout",
     "output_type": "stream",
     "text": [
      "tree with best test accuracy: max_depth_pruning=4, test accuracy: 89.56%\n"
     ]
    }
   ],
   "source": [
    "best_index = trees_testing_accuracies.index(max(trees_testing_accuracies))\n",
    "best_depth = max_depths[best_index]\n",
    "print(f\"tree with best test accuracy: max_depth_pruning={best_depth}, test accuracy: {trees_testing_accuracies[best_index]*100:.2f}%\")\n",
    "\n",
    "best_tree_depth_prunining = build_tree(data=X_train, impurity=calc_entropy, gain_ratio=True, max_depth=best_depth)"
   ]
  },
  {
   "cell_type": "markdown",
   "metadata": {},
   "source": [
    "We can notice that for lower max_depths the graph has similar increasing trend for train and test till it reaches the maximum test accuracy for depth=4. Then the graphs start to diverge and the model improves only on the train set while the accuracy decreases on the test set. It shows us that it is sometimes necessary to limit max_depth to avoid overfitting. "
   ]
  },
  {
   "cell_type": "markdown",
   "metadata": {},
   "source": [
    "\n",
    "## Min Samples Split\n",
    "\n",
    "(15 points)\n",
    "\n",
    "Consider the following min_samples_split values: [1, 5, 10, 20, 50]. For each value, construct a tree and prune it according to the min_samples_split value = don't split a node if the number of sample in it is less or equal to the min_samples_split value. Next, calculate the training and testing accuracy.<br>\n",
    "On a single plot, draw the training and testing accuracy as a function of the min_samples_split. Mark the best result on the graph with red circle. (make sure that the x-axis ticks represent the values of min_samples_split)"
   ]
  },
  {
   "cell_type": "code",
   "execution_count": 25,
   "metadata": {},
   "outputs": [],
   "source": [
    "def prune_trees_min_samples(min_samples_split_values, train_data, test_data, impurity=calc_entropy, gain_ratio=True):\n",
    "    trees_training_accuracies = []\n",
    "    trees_testing_accuracies = []\n",
    "    pruned_trees = []\n",
    "    for min_samples_split in min_samples_split_values:\n",
    "        pruned_trees.append(build_tree(data=X_train, impurity=calc_entropy, gain_ratio=True, min_samples_split=min_samples_split))\n",
    "    for tree in pruned_trees:\n",
    "        trees_training_accuracies.append(calc_accuracy(tree, X_train))\n",
    "        trees_testing_accuracies.append(calc_accuracy(tree, X_test))\n",
    "    return trees_training_accuracies, trees_testing_accuracies"
   ]
  },
  {
   "cell_type": "code",
   "execution_count": 26,
   "metadata": {},
   "outputs": [
    {
     "data": {
      "image/png": "[encoded data removed]",
      "text/plain": [
       "<Figure size 720x576 with 1 Axes>"
      ]
     },
     "metadata": {
      "needs_background": "light"
     },
     "output_type": "display_data"
    }
   ],
   "source": [
    "min_samples_split_values = [1, 5, 10, 20, 50]\n",
    "\n",
    "trees_training_accuracies, trees_testing_accuracies = prune_trees_min_samples(min_samples_split_values, X_train, X_test)\n",
    "plot_pruned_trees_accuracies('min_samples_split', min_samples_split_values, trees_training_accuracies, trees_testing_accuracies)"
   ]
  },
  {
   "cell_type": "code",
   "execution_count": 27,
   "metadata": {},
   "outputs": [
    {
     "name": "stdout",
     "output_type": "stream",
     "text": [
      "tree with best test accuracy: min_samples_split=50, test accuracy: 89.51%\n"
     ]
    }
   ],
   "source": [
    "best_index = trees_testing_accuracies.index(max(trees_testing_accuracies))\n",
    "best_min_samples_split = min_samples_split_values[best_index]\n",
    "\n",
    "print(f\"tree with best test accuracy: min_samples_split={best_min_samples_split}, test accuracy: {trees_testing_accuracies[best_index]*100:.2f}%\")"
   ]
  },
  {
   "cell_type": "markdown",
   "metadata": {},
   "source": [
    "We can notice that for low min_samples_split the accuracy improves on the train set but gets worse on the test set. It shows that setting too low min_samples_split can cause overfitting (splits can be generated only for classifying a few training instances correctly and that creates too much sensitivity to outliers). On the other hand setting it too high might hurt the accuracy since it can limit the abilty to use some of the features that could be important for correct classification. In this case maximum min sample_split = 50 is relatively small compared to the number of instances so using it improves results on the test set."
   ]
  },
  {
   "cell_type": "markdown",
   "metadata": {},
   "source": [
    "Build the best 2 trees:\n",
    "1. tree_max_depth - the best tree according to max_depth pruning\n",
    "1. tree_min_samples_split - the best tree according to min_samples_split pruning"
   ]
  },
  {
   "cell_type": "code",
   "execution_count": 28,
   "metadata": {},
   "outputs": [],
   "source": [
    "tree_max_depth = build_tree(data=X_train, impurity=calc_entropy, gain_ratio=True, max_depth=best_depth)\n",
    "tree_min_samples_split = build_tree(data=X_train, impurity=calc_entropy, gain_ratio=True, min_samples_split=best_min_samples_split)"
   ]
  },
  {
   "cell_type": "markdown",
   "metadata": {},
   "source": [
    "## Number of Nodes\n",
    "\n",
    "(5 points)\n",
    "\n",
    "Complete the function counts_nodes and print the number of nodes in each tree and print the number of nodes of the two trees above"
   ]
  },
  {
   "cell_type": "markdown",
   "metadata": {},
   "source": [
    "counts_nodes is implemented by recursion strating fromt the root. When visiting a node we add one to the counter and then add the results from calling the count_nodes function on the child nodes. the recursion stops when we get to a leaf (no children)."
   ]
  },
  {
   "cell_type": "code",
   "execution_count": 29,
   "metadata": {},
   "outputs": [],
   "source": [
    "##########To complete#############################\n",
    "def count_nodes(node):\n",
    "    \"\"\"\n",
    "    Count the number of node in a given tree\n",
    " \n",
    "    Input:\n",
    "    - node: a node in the decision tree.\n",
    " \n",
    "    Output: the number of node in the tree.\n",
    "    \"\"\"\n",
    "    node_counter = 1\n",
    "\n",
    "    for child_node in node.children:\n",
    "        node_counter += count_nodes(child_node)\n",
    "\n",
    "    return node_counter\n"
   ]
  },
  {
   "cell_type": "code",
   "execution_count": 30,
   "metadata": {},
   "outputs": [
    {
     "name": "stdout",
     "output_type": "stream",
     "text": [
      "number of nodes for tree_max_depth: 205\n"
     ]
    }
   ],
   "source": [
    "print(f\"number of nodes for tree_max_depth: {count_nodes(tree_max_depth)}\")"
   ]
  },
  {
   "cell_type": "code",
   "execution_count": 31,
   "metadata": {},
   "outputs": [
    {
     "name": "stdout",
     "output_type": "stream",
     "text": [
      "number of nodes for tree_min_samples_split: 349\n"
     ]
    }
   ],
   "source": [
    "print(f\"number of nodes for tree_min_samples_split: {count_nodes(tree_min_samples_split)}\")"
   ]
  },
  {
   "cell_type": "markdown",
   "metadata": {},
   "source": [
    "## Print the tree\n",
    "\n",
    "Complete the function `print_tree`. Your tree should be visualized clearly. You can use the following example as a reference:\n",
    "```\n",
    "[ROOT, feature=X0],\n",
    "  [X0=a, feature=X2]\n",
    "    [X2=c, leaf]: [{1.0: 10}]\n",
    "    [X2=d, leaf]: [{0.0: 10}]\n",
    "  [X0=y, feature=X5], \n",
    "    [X5=a, leaf]: [{1.0: 5}]\n",
    "    [X5=s, leaf]: [{0.0: 10}]\n",
    "  [X0=e, leaf]: [{0.0: 25, 1.0: 50}]\n",
    "```\n",
    "In each brackets:\n",
    "* The first argument is the parent feature with the value that led to current node\n",
    "* The second argument is the selected feature of the current node\n",
    "* If the current node is a leaf, you need to print also the labels and their counts\n",
    "\n",
    "(5 points)"
   ]
  },
  {
   "cell_type": "code",
   "execution_count": 32,
   "metadata": {},
   "outputs": [],
   "source": [
    "# you can change the function signeture\n",
    "def print_tree(node, depth=0, parent_feature='ROOT', feature_val='ROOT'):\n",
    "    '''\n",
    "    prints the tree according to the example above\n",
    "\n",
    "    Input:\n",
    "    - node: a node in the decision tree\n",
    "\n",
    "    This function has no return value\n",
    "    '''\n",
    "    counter=0\n",
    "    if node.get_is_leaf():\n",
    "        print(depth *' ' + f'[X{parent_feature}={feature_val}, leaf]: [{node.class_counts}]')\n",
    "    else:\n",
    "        if parent_feature==\"ROOT\":\n",
    "            print(depth *' ' + f'[{parent_feature}, feature=X{node.feature}]')\n",
    "        else:\n",
    "            print(depth *' ' + f'[X{parent_feature}={feature_val}, feature=X{node.feature}]')\n",
    "        \n",
    "        for n in node.children:\n",
    "            print_tree(n, depth=depth + 1, parent_feature=n.parent_feature, feature_val=n.feature_value)"
   ]
  },
  {
   "cell_type": "markdown",
   "metadata": {},
   "source": [
    "print the tree with the best test accuracy and with less than 50 nodes (from the two pruning methods)"
   ]
  },
  {
   "cell_type": "code",
   "execution_count": 33,
   "metadata": {},
   "outputs": [
    {
     "name": "stdout",
     "output_type": "stream",
     "text": [
      "min_samples_split = 1, Test accuracy = 77.006%, nodes=3251\n",
      "min_samples_split = 5, Test accuracy = 83.161%, nodes=1833\n",
      "min_samples_split = 10, Test accuracy = 87.691%, nodes=1182\n",
      "min_samples_split = 20, Test accuracy = 89.069%, nodes=729\n",
      "min_samples_split = 50, Test accuracy = 89.513%, nodes=349\n",
      "max_depth = 1, Test accuracy = 88.528%, nodes=10\n",
      "max_depth = 2, Test accuracy = 88.528%, nodes=32\n",
      "max_depth = 3, Test accuracy = 89.316%, nodes=83\n",
      "max_depth = 4, Test accuracy = 89.562%, nodes=205\n",
      "max_depth = 5, Test accuracy = 88.872%, nodes=422\n",
      "max_depth = 6, Test accuracy = 87.346%, nodes=765\n",
      "max_depth = 7, Test accuracy = 85.032%, nodes=1184\n",
      "max_depth = 8, Test accuracy = 83.407%, nodes=1664\n"
     ]
    }
   ],
   "source": [
    "#printing results for the two pruning methodes including number of nodes  \n",
    "pruned_trees = []\n",
    "for min_samples_split in min_samples_split_values:\n",
    "    tree = build_tree(data=X_train, impurity=calc_entropy, gain_ratio=True, min_samples_split=min_samples_split)\n",
    "    print(f\"min_samples_split = {min_samples_split}, Test accuracy = {calc_accuracy(tree, X_test)*100:.3f}%, nodes={count_nodes(tree)}\")\n",
    "\n",
    "for depth in max_depths:\n",
    "    tree = build_tree(data=X_train, impurity=calc_entropy, gain_ratio=True, max_depth=depth)\n",
    "    print(f\"max_depth = {depth}, Test accuracy = {calc_accuracy(tree, X_test)*100:.3f}%, nodes={count_nodes(tree)}\")"
   ]
  },
  {
   "cell_type": "markdown",
   "metadata": {},
   "source": [
    "The best pruned tree (highest test accuracy) with less than 50 nodes is the tree with max_depth=2 that has 32 nodes."
   ]
  },
  {
   "cell_type": "code",
   "execution_count": 34,
   "metadata": {},
   "outputs": [
    {
     "name": "stdout",
     "output_type": "stream",
     "text": [
      "[ROOT, feature=X4]\n",
      " [X4=a, feature=X2]\n",
      "  [X2=n, leaf]: [{'e': 33, 'p': 5}]\n",
      "  [X2=w, leaf]: [{'e': 107, 'p': 7}]\n",
      "  [X2=y, leaf]: [{'e': 133, 'p': 19}]\n",
      " [X4=c, feature=X6]\n",
      "  [X6=c, leaf]: [{'e': 7, 'p': 63}]\n",
      "  [X6=w, leaf]: [{'e': 3, 'p': 74}]\n",
      " [X4=f, feature=X10]\n",
      "  [X10=f, leaf]: [{'e': 14, 'p': 91}]\n",
      "  [X10=k, leaf]: [{'e': 134, 'p': 1037}]\n",
      "  [X10=s, leaf]: [{'e': 22, 'p': 310}]\n",
      " [X4=l, feature=X1]\n",
      "  [X1=f, leaf]: [{'e': 19, 'p': 1}]\n",
      "  [X1=s, leaf]: [{'e': 94, 'p': 16}]\n",
      "  [X1=y, leaf]: [{'e': 159, 'p': 10}]\n",
      " [X4=m, feature=X0]\n",
      "  [X0=f, leaf]: [{'e': 1, 'p': 8}]\n",
      "  [X0=k, leaf]: [{'e': 1, 'p': 10}]\n",
      "  [X4=x, leaf]: [{'p': 7}]\n",
      " [X4=n, feature=X7]\n",
      "  [X7=b, leaf]: [{'e': 2197, 'p': 286}]\n",
      "  [X7=n, leaf]: [{'e': 135, 'p': 58}]\n",
      " [X4=p, feature=X0]\n",
      "  [X0=f, leaf]: [{'e': 7, 'p': 86}]\n",
      "  [X0=x, leaf]: [{'e': 1, 'p': 89}]\n",
      " [X4=s, feature=X13]\n",
      "  [X13=p, leaf]: [{'e': 12, 'p': 190}]\n",
      "  [X13=w, leaf]: [{'e': 26, 'p': 190}]\n",
      " [X4=y, feature=X1]\n",
      "  [X1=s, leaf]: [{'e': 18, 'p': 194}]\n",
      "  [X1=y, leaf]: [{'e': 31, 'p': 188}]\n"
     ]
    }
   ],
   "source": [
    "best_tree_max_50_nodes = build_tree(data=X_train, impurity=calc_entropy, gain_ratio=True, max_depth=2)\n",
    "\n",
    "print_tree(best_tree_max_50_nodes)"
   ]
  }
 ],
 "metadata": {
  "celltoolbar": "Create Assignment",
  "kernelspec": {
   "display_name": "Python 3 (ipykernel)",
   "language": "python",
   "name": "python3"
  },
  "language_info": {
   "codemirror_mode": {
    "name": "ipython",
    "version": 3
   },
   "file_extension": ".py",
   "mimetype": "text/x-python",
   "name": "python",
   "nbconvert_exporter": "python",
   "pygments_lexer": "ipython3",
   "version": "3.6.9"
  }
 },
 "nbformat": 4,
 "nbformat_minor": 4
}
